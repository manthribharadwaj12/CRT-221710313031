{
  "nbformat": 4,
  "nbformat_minor": 0,
  "metadata": {
    "colab": {
      "name": "Untitled1.ipynb",
      "provenance": [],
      "authorship_tag": "ABX9TyP4N0xSxPmHPjLSv3oejEO4",
      "include_colab_link": true
    },
    "kernelspec": {
      "name": "python3",
      "display_name": "Python 3"
    }
  },
  "cells": [
    {
      "cell_type": "markdown",
      "metadata": {
        "id": "view-in-github",
        "colab_type": "text"
      },
      "source": [
        "<a href=\"https://colab.research.google.com/github/manthribharadwaj12/CRT-221710313031/blob/master/Untitled1.ipynb\" target=\"_parent\"><img src=\"https://colab.research.google.com/assets/colab-badge.svg\" alt=\"Open In Colab\"/></a>"
      ]
    },
    {
      "cell_type": "markdown",
      "metadata": {
        "id": "380kQqYBaQ8r",
        "colab_type": "text"
      },
      "source": [
        "input\n",
        "\n",
        "5\n",
        "\n",
        "1 7 8 1 23\n",
        "\n",
        "output\n",
        "\n",
        "1 1 0 1 1"
      ]
    },
    {
      "cell_type": "code",
      "metadata": {
        "id": "Sgs0ZuywaOAK",
        "colab_type": "code",
        "colab": {}
      },
      "source": [
        "#include<stdio.h>\n",
        "int main()\n",
        "{ int a[100],n,i;\n",
        "scanf(\"%d\",&n);\n",
        "for(i=0;i<n;i++)\n",
        "scanf(\"%d\",&a[i]);\n",
        "for(i=0;i<n;i++)\n",
        "{ \n",
        "printf(\"%d \",a[i]%2);\n",
        "//printf(\"%u \",&a[i]);\n",
        "}\n",
        "return 0;\n",
        "}\n"
      ],
      "execution_count": 0,
      "outputs": []
    },
    {
      "cell_type": "markdown",
      "metadata": {
        "id": "4reNUPvCaq_7",
        "colab_type": "text"
      },
      "source": [
        "input \n",
        "\n",
        "5\n",
        "\n",
        "19 2 1 24 8\n",
        "\n",
        "output\n",
        "\n",
        "<1,24>"
      ]
    },
    {
      "cell_type": "code",
      "metadata": {
        "id": "A1zqzXfAbhwm",
        "colab_type": "code",
        "colab": {}
      },
      "source": [
        "#include<stdio.h>\n",
        "int main()\n",
        "{ int a[100],n,i,min,max;\n",
        "scanf(\"%d\",&n);\n",
        "for(i=0;i<n;i++)\n",
        "scanf(\"%d\",&a[i]);\n",
        "min=a[0];\n",
        "max=a[0];\n",
        "for(i=1;i<n;i++)\n",
        "{ if(a[i]>max)\n",
        "max=a[i];\n",
        "if(a[i]<min)\n",
        "min=a[i];\n",
        "}\n",
        "printf(\"<%d,%d>\",min,max);\n",
        "return 0;\n",
        "}\n"
      ],
      "execution_count": 0,
      "outputs": []
    },
    {
      "cell_type": "markdown",
      "metadata": {
        "id": "C-CpOJriaPBk",
        "colab_type": "text"
      },
      "source": [
        "input\n",
        "\n",
        "5\n",
        "\n",
        "1 3 7 8 4\n",
        "\n",
        "output\n",
        "\n",
        "1 7 24 28 4"
      ]
    },
    {
      "cell_type": "code",
      "metadata": {
        "id": "AWHc-PGEeARP",
        "colab_type": "code",
        "colab": {}
      },
      "source": [
        "#include<stdio.h>\n",
        "int main()\n",
        "{ int a[100],n,i,m;\n",
        "scanf(\"%d\",&n);\n",
        "for(i=0;i<n;i++)\n",
        "scanf(\"%d\",&a[i]);\n",
        "printf(\"%d \",a[0]);\n",
        "for(i=1;i<n-1;i++)\n",
        "{ \n",
        "printf(\"%d \",a[i-1]*a[i+1]);\n",
        "}\n",
        "printf(\"%d \",a[n-1]);\n",
        "return 0;\n",
        "}\n"
      ],
      "execution_count": 0,
      "outputs": []
    },
    {
      "cell_type": "markdown",
      "metadata": {
        "id": "kidHApZyeydy",
        "colab_type": "text"
      },
      "source": [
        ""
      ]
    }
  ]
}