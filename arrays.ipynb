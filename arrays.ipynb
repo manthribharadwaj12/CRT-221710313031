{
  "nbformat": 4,
  "nbformat_minor": 0,
  "metadata": {
    "colab": {
      "name": "arrays",
      "provenance": [],
      "collapsed_sections": [],
      "authorship_tag": "ABX9TyN2t6yDGLpiTugkSNPdsZSt",
      "include_colab_link": true
    },
    "kernelspec": {
      "name": "python3",
      "display_name": "Python 3"
    }
  },
  "cells": [
    {
      "cell_type": "markdown",
      "metadata": {
        "id": "view-in-github",
        "colab_type": "text"
      },
      "source": [
        "<a href=\"https://colab.research.google.com/github/manthribharadwaj12/CRT-221710313031/blob/master/arrays.ipynb\" target=\"_parent\"><img src=\"https://colab.research.google.com/assets/colab-badge.svg\" alt=\"Open In Colab\"/></a>"
      ]
    },
    {
      "cell_type": "markdown",
      "metadata": {
        "id": "380kQqYBaQ8r",
        "colab_type": "text"
      },
      "source": [
        "input\n",
        "\n",
        "5\n",
        "\n",
        "1 7 8 1 23\n",
        "\n",
        "output\n",
        "\n",
        "1 1 0 1 1"
      ]
    },
    {
      "cell_type": "code",
      "metadata": {
        "id": "Sgs0ZuywaOAK",
        "colab_type": "code",
        "colab": {}
      },
      "source": [
        "#include<stdio.h>\n",
        "int main()\n",
        "{ int a[100],n,i;\n",
        "scanf(\"%d\",&n);\n",
        "for(i=0;i<n;i++)\n",
        "scanf(\"%d\",&a[i]);\n",
        "for(i=0;i<n;i++)\n",
        "{ \n",
        "printf(\"%d \",a[i]%2);\n",
        "//printf(\"%u \",&a[i]);\n",
        "}\n",
        "return 0;\n",
        "}\n"
      ],
      "execution_count": 0,
      "outputs": []
    },
    {
      "cell_type": "markdown",
      "metadata": {
        "id": "4reNUPvCaq_7",
        "colab_type": "text"
      },
      "source": [
        "input \n",
        "\n",
        "5\n",
        "\n",
        "19 2 1 24 8\n",
        "\n",
        "output\n",
        "\n",
        "<1,24>"
      ]
    },
    {
      "cell_type": "code",
      "metadata": {
        "id": "A1zqzXfAbhwm",
        "colab_type": "code",
        "colab": {}
      },
      "source": [
        "#include<stdio.h>\n",
        "int main()\n",
        "{ int a[100],n,i,min,max;\n",
        "scanf(\"%d\",&n);\n",
        "for(i=0;i<n;i++)\n",
        "scanf(\"%d\",&a[i]);\n",
        "min=a[0];\n",
        "max=a[0];\n",
        "for(i=1;i<n;i++)\n",
        "{ if(a[i]>max)\n",
        "max=a[i];\n",
        "if(a[i]<min)\n",
        "min=a[i];\n",
        "}\n",
        "printf(\"<%d,%d>\",min,max);\n",
        "return 0;\n",
        "}\n"
      ],
      "execution_count": 0,
      "outputs": []
    },
    {
      "cell_type": "markdown",
      "metadata": {
        "id": "C-CpOJriaPBk",
        "colab_type": "text"
      },
      "source": [
        "input\n",
        "\n",
        "5\n",
        "\n",
        "1 3 7 8 4\n",
        "\n",
        "output\n",
        "\n",
        "1 7 24 28 4"
      ]
    },
    {
      "cell_type": "code",
      "metadata": {
        "id": "AWHc-PGEeARP",
        "colab_type": "code",
        "colab": {}
      },
      "source": [
        "#include<stdio.h>\n",
        "int main()\n",
        "{ int a[100],n,i,m;\n",
        "scanf(\"%d\",&n);\n",
        "for(i=0;i<n;i++)\n",
        "scanf(\"%d\",&a[i]);\n",
        "printf(\"%d \",a[0]);\n",
        "for(i=1;i<n-1;i++)\n",
        "{ \n",
        "printf(\"%d \",a[i-1]*a[i+1]);\n",
        "}\n",
        "printf(\"%d \",a[n-1]);\n",
        "return 0;\n",
        "}\n"
      ],
      "execution_count": 0,
      "outputs": []
    },
    {
      "cell_type": "markdown",
      "metadata": {
        "id": "kidHApZyeydy",
        "colab_type": "text"
      },
      "source": [
        "input\n",
        "\n",
        "145\n",
        "\n",
        "output \n",
        "\n",
        " 1 4 5"
      ]
    },
    {
      "cell_type": "code",
      "metadata": {
        "id": "tUSciSzFT1v6",
        "colab_type": "code",
        "colab": {}
      },
      "source": [
        "#include<stdio.h>\n",
        "int main()\n",
        "{ int a[100],n,i=0,d;\n",
        "long num;\n",
        "scanf(\"%ld\",&num);\n",
        "while(num!=0)\n",
        "{ d=num%10;\n",
        "num=num/10;\n",
        "a[i]=d;\n",
        "i++;\n",
        "}\n",
        "n=i;\n",
        "for(i=n-1;i>=0;i--)\n",
        "printf(\"%d \",a[i]);\n",
        "return 0;\n",
        "}\n"
      ],
      "execution_count": 0,
      "outputs": []
    },
    {
      "cell_type": "markdown",
      "metadata": {
        "id": "oYHzBSERVyo6",
        "colab_type": "text"
      },
      "source": [
        "input\n",
        "\n",
        "13852\n",
        "\n",
        "output\n",
        "\n",
        "1 5 2 "
      ]
    },
    {
      "cell_type": "code",
      "metadata": {
        "id": "52yuw_E5X1cn",
        "colab_type": "code",
        "colab": {}
      },
      "source": [
        "#include<stdio.h>\n",
        "int main()\n",
        "{ int a[100],n,i,d;\n",
        "long num;\n",
        "scanf(\"%ld\",&num);\n",
        "while(num!=0)\n",
        "{ d=num%10;\n",
        "num=num/10;\n",
        "a[i]=d;\n",
        "i++;\n",
        "}\n",
        "n=i;\n",
        "for(i=n-1;i>=0;i--)\n",
        "{\n",
        "if(i==0 || i==n-1)\n",
        "printf(\"%d \",a[i]); \n",
        "if(a[i-1]%2==0 && a[i+1]%2==0)\n",
        "printf(\"%d \",a[i]);\n",
        "}\n",
        "return 0;\n",
        "}\n"
      ],
      "execution_count": 0,
      "outputs": []
    },
    {
      "cell_type": "markdown",
      "metadata": {
        "id": "ivSi1BSzZFw9",
        "colab_type": "text"
      },
      "source": [
        "input \n",
        "\n",
        "13852\n",
        "\n",
        "output\n",
        " \n",
        " 385"
      ]
    },
    {
      "cell_type": "code",
      "metadata": {
        "id": "NnnXsX8td1X2",
        "colab_type": "code",
        "colab": {}
      },
      "source": [
        "#include<stdio.h>\n",
        "int main()\n",
        "{ int a[100],n,i,d,m=0;\n",
        "long num;\n",
        "scanf(\"%ld\",&num);\n",
        "while(num!=0)\n",
        "{ d=num%10;\n",
        "num=num/10;\n",
        "a[i]=d;\n",
        "i++;\n",
        "}\n",
        "n=i;\n",
        "\n",
        "for(i=n-2;i>0;i--)\n",
        "{\n",
        "m=m*10+a[i];\n",
        "}\n",
        "printf(\"%d\",m);\n",
        "return 0;\n",
        "}\n"
      ],
      "execution_count": 0,
      "outputs": []
    },
    {
      "cell_type": "markdown",
      "metadata": {
        "id": "7YM94Wx-d2Z7",
        "colab_type": "text"
      },
      "source": [
        "input \n",
        "\n",
        "6 \n",
        "\n",
        "19 1 121 87 88 16\n",
        "\n",
        "output\n",
        "\n",
        "3"
      ]
    },
    {
      "cell_type": "code",
      "metadata": {
        "id": "EMJ2tXADd_Dx",
        "colab_type": "code",
        "colab": {}
      },
      "source": [
        "#include<stdio.h>\n",
        "int pallindrome(int x)\n",
        "{ int rev=0,buffer=x;\n",
        "while(x!=0)\n",
        "{ rev= rev*10 + (x%10);\n",
        "x=x/10; \n",
        "}\n",
        "if(buffer==rev)\n",
        "return 1;\n",
        "else\n",
        "return 0;\n",
        "}\n",
        "\n",
        "int main()\n",
        "{ int a[100],n,i,count=0;\n",
        "scanf(\"%d\",&n);\n",
        "for(i=0;i<n;i++)\n",
        "scanf(\"%d\",&a[i]);\n",
        "for(i=0;i<n;i++)\n",
        "{ if(pallindrome(a[i]))\n",
        "   count++;\n",
        "}\n",
        "printf(\"%d\",count);\n",
        "return 0;\n",
        "}\n",
        "\n",
        "short form\n",
        "\n",
        "#include<stdio.h>\n",
        "int pallindrome(int x)\n",
        "{ int rev=0,buffer=x;\n",
        "while(x!=0)\n",
        "{ rev= rev*10 + (x%10);\n",
        "x=x/10; \n",
        "}\n",
        "if(buffer==rev)\n",
        "return 1;\n",
        "else\n",
        "return 0;\n",
        "}\n",
        "\n",
        "int main()\n",
        "{ int a[100],n,i,count=0;\n",
        "scanf(\"%d\",&n);\n",
        "for(i=0;i<n;i++)\n",
        "{\n",
        "scanf(\"%d\",&a[i]);\n",
        "if(pallindrome(a[i]))\n",
        "   count++;\n",
        "}\n",
        "printf(\"%d\",count);\n",
        "return 0;\n",
        "}\n",
        "\n"
      ],
      "execution_count": 0,
      "outputs": []
    },
    {
      "cell_type": "markdown",
      "metadata": {
        "id": "H8YZk5JOS-2Y",
        "colab_type": "text"
      },
      "source": [
        "input\n",
        "\n",
        "6\n",
        "\n",
        "19 1 121 87 88 16\n",
        "\n",
        "2\n",
        "\n",
        "output\n",
        "\n",
        "121\n"
      ]
    },
    {
      "cell_type": "code",
      "metadata": {
        "id": "nRPvQ3WvXElA",
        "colab_type": "code",
        "colab": {}
      },
      "source": [
        "#include<stdio.h>\n",
        "int pallindrome(int x)\n",
        "{ int rev=0,buffer=x;\n",
        "while(x!=0)\n",
        "{ rev= rev*10 + (x%10);\n",
        "x=x/10; \n",
        "}\n",
        "if(buffer==rev)\n",
        "return 1;\n",
        "else\n",
        "return 0;\n",
        "}\n",
        "\n",
        "int main()\n",
        "{ int a[100],n,i,count=0,k,m;\n",
        "scanf(\"%d\",&n);\n",
        "for(i=0;i<n;i++)\n",
        "{\n",
        "scanf(\"%d\",&a[i]);\n",
        "}\n",
        "scanf(\"%d\",&k);\n",
        "for(i=0;i<n;i++)\n",
        "{if(pallindrome(a[i]))\n",
        "  {\n",
        "    count++;\n",
        "if(count==k)\n",
        " {printf(\"%d\",a[i]);\n",
        " break;\n",
        " }\n",
        " }\n",
        "}\n",
        "return 0;\n",
        "}\n"
      ],
      "execution_count": 0,
      "outputs": []
    },
    {
      "cell_type": "markdown",
      "metadata": {
        "id": "7pitFwI8Ybfe",
        "colab_type": "text"
      },
      "source": [
        "input\n",
        "\n",
        "5\n",
        "\n",
        "1 3 1 5 3\n",
        "\n",
        "output\n",
        "\n",
        "5"
      ]
    },
    {
      "cell_type": "code",
      "metadata": {
        "id": "l6f88H_rcZ9Q",
        "colab_type": "code",
        "colab": {}
      },
      "source": [
        "int main()\n",
        "{ int a[100],n,i,j,count;\n",
        "scanf(\"%d\",&n);\n",
        "for(i=0;i<n;i++)\n",
        "{\n",
        "scanf(\"%d\",&a[i]);\n",
        "}\n",
        "for(i=0;i<n;i++)\n",
        "{ count=0;\n",
        "for(j=0;j<n;j++)\n",
        "{\n",
        "//printf(\"%d %d\\n \",a[i],a[j]);\n",
        "if(a[j]==a[i]) \n",
        "{\n",
        "count++;\n",
        "}\n",
        "}\n",
        "if(count==1)\n",
        "printf(\"%d \",a[i]);\n",
        "}\n",
        "return 0;\n",
        "}\n"
      ],
      "execution_count": 0,
      "outputs": []
    },
    {
      "cell_type": "markdown",
      "metadata": {
        "id": "7otgqMxGcv9z",
        "colab_type": "text"
      },
      "source": [
        "input \n",
        "\n",
        "5\n",
        "\n",
        "1 2 3 5 2\n",
        "\n",
        "output\n",
        "\n",
        "9"
      ]
    },
    {
      "cell_type": "code",
      "metadata": {
        "id": "2hByAOF-dkWo",
        "colab_type": "code",
        "colab": {}
      },
      "source": [
        "int main()\n",
        "{ int a[100],n,i,j,count,sum=0;\n",
        "scanf(\"%d\",&n);\n",
        "for(i=0;i<n;i++)\n",
        "{\n",
        "scanf(\"%d\",&a[i]);\n",
        "}\n",
        "for(i=0;i<n;i++)\n",
        "{ count=0;\n",
        "for(j=0;j<n;j++)\n",
        "{\n",
        "//printf(\"%d %d\\n \",a[i],a[j]);\n",
        "if(a[j]==a[i]) \n",
        "{\n",
        "count++;\n",
        "}\n",
        "}\n",
        "if(count==1)\n",
        "sum=sum+a[i];\n",
        "}\n",
        "printf(\"%d \",sum);\n",
        "return 0;\n",
        "}\n"
      ],
      "execution_count": 0,
      "outputs": []
    },
    {
      "cell_type": "markdown",
      "metadata": {
        "id": "h7bqouYyWg4W",
        "colab_type": "text"
      },
      "source": [
        "**MULTI D ARRAYS**"
      ]
    },
    {
      "cell_type": "markdown",
      "metadata": {
        "id": "X2uplIgQdmM8",
        "colab_type": "text"
      },
      "source": [
        "input  \n",
        "\n",
        "3\n",
        "\n",
        "1 2 3\n",
        "\n",
        "4 5 6\n",
        " \n",
        "7 8 9\n",
        "\n",
        "output\n",
        "\n",
        "0\n"
      ]
    },
    {
      "cell_type": "code",
      "metadata": {
        "id": "RlYQFPp1YTTW",
        "colab_type": "code",
        "colab": {}
      },
      "source": [
        "#include<stdio.h>\n",
        "#include<math.h>\n",
        "int main()\n",
        "{ int a[10][10],n,i,j,s1=0,s2=0;\n",
        "scanf(\"%d\",&n);\n",
        "for(i=0;i<n;i++)\n",
        "{\n",
        "for(j=0;j<n;j++)\t\n",
        "{\n",
        "scanf(\"%d\",&a[i][j]);\n",
        "}\n",
        "}\n",
        "for(i=0;i<n;i++)\n",
        "{\n",
        "for(j=0;j<n;j++)\t\n",
        "{\n",
        "if(i==j)\n",
        "s1=s1+a[i][i];\n",
        "if(i+j==(n-1))\n",
        "s2=s2+a[i][j];\n",
        "}\n",
        "}\n",
        "printf(\"%d\\n \",abs(s1-s2));\n",
        "if(s1==s2)\n",
        "printf(\"1\");\n",
        "else\n",
        "printf(\"0\");\n",
        "return 0;\n",
        "}\n"
      ],
      "execution_count": 0,
      "outputs": []
    },
    {
      "cell_type": "markdown",
      "metadata": {
        "id": "iy6k5JvFYUur",
        "colab_type": "text"
      },
      "source": [
        "input\n",
        "\n",
        "4\n",
        "\n",
        "1 2 3 4\n",
        "\n",
        "1 1 2 2\n",
        "\n",
        "1 1 3 3\n",
        "\n",
        "1 4 1 3\n",
        "\n",
        "output\n",
        "\n",
        "<2,2>\n",
        "\n",
        "<2,2>\n",
        "\n",
        "<0,4>\n",
        "\n",
        "<1,3>"
      ]
    },
    {
      "cell_type": "code",
      "metadata": {
        "id": "dQW2TGxdbMWm",
        "colab_type": "code",
        "colab": {}
      },
      "source": [
        "#include<stdio.h>\n",
        "int main()\n",
        "{ int a[10][10],n,i,j,s1=0,s2=0;\n",
        "scanf(\"%d\",&n);\n",
        "for(i=0;i<n;i++)\n",
        "{\n",
        "for(j=0;j<n;j++)\t\n",
        "{\n",
        "scanf(\"%d\",&a[i][j]);\n",
        "}\n",
        "}\n",
        "for(i=0;i<n;i++)\n",
        "{ s1=0;s2=0;\n",
        "for(j=0;j<n;j++)\t\n",
        "{\n",
        "\tif(a[i][j]%2==0)\n",
        "\ts1++;\n",
        "\telse\n",
        "\ts2++;\n",
        "}\n",
        "printf(\"<%d,%d>\\n\",s1,s2);\n",
        "}\n",
        "return 0;\n",
        "}\n"
      ],
      "execution_count": 0,
      "outputs": []
    },
    {
      "cell_type": "markdown",
      "metadata": {
        "id": "h20fhKyOddhV",
        "colab_type": "text"
      },
      "source": [
        "input\n",
        "\n",
        "4\n",
        "\n",
        "11 12 54 22\n",
        "\n",
        "1 2 98 3\n",
        "\n",
        "4 2 8 7\n",
        "\n",
        "9 87 67 1\n",
        "\n",
        "output\n",
        "\n",
        "<11,54>\n",
        "\n",
        "<1,98>\n",
        "\n",
        "<2,8>\n",
        "\n",
        "<1,87>"
      ]
    },
    {
      "cell_type": "code",
      "metadata": {
        "id": "XIFadTENRpFt",
        "colab_type": "code",
        "colab": {}
      },
      "source": [
        "#include<stdio.h>\n",
        "int main()\n",
        "{ int a[10][10],n,i,j,s1=0,s2=0;\n",
        "scanf(\"%d\",&n);\n",
        "for(i=0;i<n;i++)\n",
        "{\n",
        "for(j=0;j<n;j++)\t\n",
        "{\n",
        "scanf(\"%d\",&a[i][j]);\n",
        "}\n",
        "}\n",
        "for(i=0;i<n;i++)\n",
        "{ s1=a[i][0];s2=a[i][0];\n",
        "for(j=1;j<n;j++)\t\n",
        "{\n",
        "\tif(s1>a[i][j])\n",
        "\ts1=a[i][j];\n",
        "\tif(s2<a[i][j])\n",
        "\t{\n",
        "\ts2=a[i][j];\n",
        "//\tprintf(\"%d\",s2);\n",
        "\t}\n",
        "\t\n",
        "}\n",
        "printf(\"<%d,%d>\\n\",s1,s2);\n",
        "}\n",
        "return 0;\n",
        "}\n"
      ],
      "execution_count": 0,
      "outputs": []
    },
    {
      "cell_type": "markdown",
      "metadata": {
        "id": "BJGKwTdGTQsi",
        "colab_type": "text"
      },
      "source": [
        "input\n",
        "\n",
        "4\n",
        "\n",
        "1 2 3 4\n",
        "\n",
        "5 6 7 8\n",
        "\n",
        "1 2 3 4\n",
        "\n",
        "5 6 7 8\n",
        "\n",
        "output\n",
        "\n",
        "18"
      ]
    },
    {
      "cell_type": "code",
      "metadata": {
        "id": "qgaTpqh9WvRm",
        "colab_type": "code",
        "colab": {}
      },
      "source": [
        "#include<stdio.h>\n",
        "int main()\n",
        "{ int a[10][10],n,i,m,j,s1=0;\n",
        "scanf(\"%d%d\",&n,&m);\n",
        "for(i=0;i<n;i++)\n",
        "{\n",
        "for(j=0;j<m;j++)\t\n",
        "{\n",
        "scanf(\"%d\",&a[i][j]);\n",
        "}\n",
        "}\n",
        "for(i=1;i<n-1;i++)\n",
        "{for(j=1;j<m-1;j++)\n",
        " {\n",
        " \ts1=s1+a[i][j];\n",
        " }\n",
        "}\n",
        "printf(\"%d\",s1);\n",
        "return 0;\n",
        "}\n"
      ],
      "execution_count": 0,
      "outputs": []
    },
    {
      "cell_type": "markdown",
      "metadata": {
        "id": "vnbxjqJwRXuj",
        "colab_type": "text"
      },
      "source": [
        "input\n",
        "\n",
        "2 3\n",
        "\n",
        "1 2 3\n",
        " \n",
        "4 5 6\n",
        "\n",
        "output\n",
        "\n",
        "* * * * * (5 stars)\n",
        "\n",
        "* 1 2 3 *\n",
        "\n",
        "* 4 5 6 *\n",
        "\n",
        "* * * * * (5 stars)"
      ]
    },
    {
      "cell_type": "code",
      "metadata": {
        "id": "liSO-vx5VUAL",
        "colab_type": "code",
        "colab": {}
      },
      "source": [
        "#include<stdio.h>\n",
        "int main()\n",
        "{ int a[10][10],n,i,m,j,s1=0;\n",
        "scanf(\"%d%d\",&n,&m);\n",
        "for(i=1;i<=n;i++)\n",
        "{\n",
        "for(j=1;j<=m;j++)\t\n",
        "{\n",
        "scanf(\"%d\",&a[i][j]);\n",
        "}\n",
        "}\n",
        "n=n+2;\n",
        "m=m+2;\n",
        "for(i=0;i<n;i++)\n",
        "{for(j=0;j<m;j++)\n",
        " {\n",
        " \tif(i==0 || i==n-1 || j==0 || j==m-1)\n",
        " \tprintf(\"* \");\n",
        " \telse\n",
        " \tprintf(\"%d \",a[i][j]);\n",
        " }\n",
        " printf(\"\\n\");\n",
        "}\n",
        "return 0;\n",
        "}\n",
        "// instead of reading from 1 we can write from 1\n",
        "// manipulate with i=negative number and we can do it"
      ],
      "execution_count": 0,
      "outputs": []
    },
    {
      "cell_type": "markdown",
      "metadata": {
        "id": "L3hAHoXoSL-q",
        "colab_type": "text"
      },
      "source": [
        "input\n",
        "\n",
        "2 3\n",
        "\n",
        "1 2 3\n",
        " \n",
        "4 5 6\n",
        "\n",
        "output\n",
        "\n",
        "```\n",
        "\n",
        "$ $ $ $ $ $ $\n",
        "\n",
        "$ * * * * * $\n",
        "\n",
        "$ * 1 2 3 * $\n",
        " \n",
        "$ * 4 5 6 * $\n",
        "\n",
        "$ * * * * * $\n",
        "\n",
        "$ $ $ $ $ $ $\n",
        "\n",
        "```\n",
        "\n"
      ]
    },
    {
      "cell_type": "code",
      "metadata": {
        "id": "6iRVy4dPSPK9",
        "colab_type": "code",
        "colab": {}
      },
      "source": [
        "#include<stdio.h>\n",
        "int main()\n",
        "{ int a[10][10],n,i,m,j,s1=0;\n",
        "scanf(\"%d%d\",&n,&m);\n",
        "for(i=2;i<=n+1;i++)\n",
        "{\n",
        "for(j=2;j<=m+1;j++)\t\n",
        "{\n",
        "scanf(\"%d\",&a[i][j]);\n",
        "}\n",
        "}\n",
        "n=n+4;\n",
        "m=m+4;\n",
        "for(i=0;i<n;i++)\n",
        "{for(j=0;j<m;j++)\n",
        " {\n",
        " \tif(i==0 || i==n-1 || j==0 || j==m-1)\n",
        " \tprintf(\"$ \");\n",
        "\telse if(i==1 || i==n-2 || j==1 || j==m-2)\n",
        " \tprintf(\"* \"); \t\n",
        " \telse\n",
        " \tprintf(\"%d \",a[i][j]);\n",
        " }\n",
        " printf(\"\\n\");\n",
        "}\n",
        "return 0;\n",
        "}\n"
      ],
      "execution_count": 0,
      "outputs": []
    }
  ]
}