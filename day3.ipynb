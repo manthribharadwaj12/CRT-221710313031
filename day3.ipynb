{
 "cells": [
  {
   "cell_type": "code",
   "execution_count": 25,
   "metadata": {},
   "outputs": [],
   "source": [
    "class hi:\n",
    " \n",
    " def hello(self):\n",
    "        print(\"hello\")\n"
   ]
  },
  {
   "cell_type": "code",
   "execution_count": 26,
   "metadata": {},
   "outputs": [
    {
     "name": "stdout",
     "output_type": "stream",
     "text": [
      "hello\n"
     ]
    }
   ],
   "source": [
    "a=hi()\n",
    "a.hello()"
   ]
  },
  {
   "cell_type": "code",
   "execution_count": 23,
   "metadata": {},
   "outputs": [
    {
     "name": "stdout",
     "output_type": "stream",
     "text": [
      "hello \n"
     ]
    }
   ],
   "source": [
    "class Person:\n",
    "#   def __init__(self, name, age):\n",
    "#     self.name = name\n",
    "#     self.age = age\n",
    "\n",
    "  def myfunc(self):\n",
    "    print(\"hello \")\n",
    "\n",
    "p1 = Person()\n",
    "p1.myfunc()\n"
   ]
  },
  {
   "cell_type": "code",
   "execution_count": 16,
   "metadata": {},
   "outputs": [
    {
     "name": "stdout",
     "output_type": "stream",
     "text": [
      "[9, 19]\n",
      "False\n",
      "[19, 79, 990, 8239, 90340]\n",
      "(7, 90340, 99674, 0, 1, 90340)\n"
     ]
    }
   ],
   "source": [
    "li=[9,92,19,90340,8239]\n",
    "print(li[0:3:2])\n",
    "li.append(990)\n",
    "li[1]=79\n",
    "del li[0]\n",
    "len(li)\n",
    "li*2\n",
    "li.sort()\n",
    "print(4 in li)\n",
    "print(li)\n",
    "li.insert(0,7)\n",
    "print(min(li),max(li),sum(li),li.index(7),li.count(7),li.pop())"
   ]
  },
  {
   "cell_type": "code",
   "execution_count": 17,
   "metadata": {},
   "outputs": [
    {
     "name": "stdout",
     "output_type": "stream",
     "text": [
      "100\n",
      "15\n",
      "66\n"
     ]
    }
   ],
   "source": [
    "n=input()\n",
    "c=input()\n",
    "count=0\n",
    "for i in range(1,n+1):\n",
    "    if(count==c):\n",
    "        break\n",
    "    else:\n",
    "        i=str(i)\n",
    "        fruits = list(i)\n",
    "        l1=list(i)\n",
    "        fruits.reverse()\n",
    "        if(l1==fruits):\n",
    "            count=count+1  \n",
    "            j=i\n",
    "print(j)"
   ]
  },
  {
   "cell_type": "code",
   "execution_count": 67,
   "metadata": {
    "collapsed": true
   },
   "outputs": [
    {
     "data": {
      "text/plain": [
       "[7,\n",
       " 19,\n",
       " 79,\n",
       " 990,\n",
       " 8239,\n",
       " 7,\n",
       " 19,\n",
       " 79,\n",
       " 990,\n",
       " 8239,\n",
       " 7,\n",
       " 19,\n",
       " 79,\n",
       " 990,\n",
       " 8239,\n",
       " 7,\n",
       " 19,\n",
       " 79,\n",
       " 990,\n",
       " 8239,\n",
       " 7,\n",
       " 19,\n",
       " 79,\n",
       " 990,\n",
       " 8239,\n",
       " 7,\n",
       " 19,\n",
       " 79,\n",
       " 990,\n",
       " 8239,\n",
       " 7,\n",
       " 19,\n",
       " 79,\n",
       " 990,\n",
       " 8239,\n",
       " 7,\n",
       " 19,\n",
       " 79,\n",
       " 990,\n",
       " 8239]"
      ]
     },
     "execution_count": 67,
     "metadata": {},
     "output_type": "execute_result"
    }
   ],
   "source": [
    "fruits = ['a', 'b', 'c']\n",
    "li.extend(li)\n",
    "li"
   ]
  },
  {
   "cell_type": "code",
   "execution_count": 78,
   "metadata": {},
   "outputs": [
    {
     "name": "stdout",
     "output_type": "stream",
     "text": [
      "\"1,2,4,5,2,5,3,53\"\n",
      "53\n"
     ]
    }
   ],
   "source": [
    "def hi(a):\n",
    "    a.sort()\n",
    "    n=len(a)\n",
    "    print(a[n-1])\n",
    "a=input().split(',')\n",
    "hi(a)\n"
   ]
  },
  {
   "cell_type": "code",
   "execution_count": 73,
   "metadata": {},
   "outputs": [
    {
     "name": "stdout",
     "output_type": "stream",
     "text": [
      "\"1 2 3 4 5 6 7 8\"\n"
     ]
    },
    {
     "ename": "NameError",
     "evalue": "name 'hi' is not defined",
     "output_type": "error",
     "traceback": [
      "\u001b[1;31m---------------------------------------------------------------------------\u001b[0m",
      "\u001b[1;31mNameError\u001b[0m                                 Traceback (most recent call last)",
      "\u001b[1;32m<ipython-input-73-9d89164712b4>\u001b[0m in \u001b[0;36m<module>\u001b[1;34m()\u001b[0m\n\u001b[0;32m      1\u001b[0m \u001b[0ma\u001b[0m\u001b[1;33m=\u001b[0m\u001b[0minput\u001b[0m\u001b[1;33m(\u001b[0m\u001b[1;33m)\u001b[0m\u001b[1;33m.\u001b[0m\u001b[0msplit\u001b[0m\u001b[1;33m(\u001b[0m\u001b[1;34m','\u001b[0m\u001b[1;33m)\u001b[0m\u001b[1;33m\u001b[0m\u001b[0m\n\u001b[1;32m----> 2\u001b[1;33m \u001b[0mhi\u001b[0m\u001b[1;33m(\u001b[0m\u001b[0ma\u001b[0m\u001b[1;33m)\u001b[0m\u001b[1;33m\u001b[0m\u001b[0m\n\u001b[0m",
      "\u001b[1;31mNameError\u001b[0m: name 'hi' is not defined"
     ]
    }
   ],
   "source": []
  },
  {
   "cell_type": "code",
   "execution_count": null,
   "metadata": {},
   "outputs": [],
   "source": []
  }
 ],
 "metadata": {
  "kernelspec": {
   "display_name": "Python 2",
   "language": "python",
   "name": "python2"
  },
  "language_info": {
   "codemirror_mode": {
    "name": "ipython",
    "version": 2
   },
   "file_extension": ".py",
   "mimetype": "text/x-python",
   "name": "python",
   "nbconvert_exporter": "python",
   "pygments_lexer": "ipython2",
   "version": "2.7.14"
  }
 },
 "nbformat": 4,
 "nbformat_minor": 2
}
