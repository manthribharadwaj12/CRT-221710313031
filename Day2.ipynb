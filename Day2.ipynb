{
 "cells": [
  {
   "cell_type": "code",
   "execution_count": 28,
   "metadata": {},
   "outputs": [
    {
     "name": "stdout",
     "output_type": "stream",
     "text": [
      "123456789\n",
      "123456789\n",
      "123456789\n",
      "123456789\n",
      "123456789\n"
     ]
    },
    {
     "data": {
      "text/plain": [
       "'123456789'"
      ]
     },
     "execution_count": 28,
     "metadata": {},
     "output_type": "execute_result"
    }
   ],
   "source": [
    "def hi(a):\n",
    "    for i in range(0,a):\n",
    "        \n",
    "        print(\"123456789\")\n",
    "    return \"123456789\"\n",
    "hi(5)"
   ]
  },
  {
   "cell_type": "code",
   "execution_count": 29,
   "metadata": {},
   "outputs": [
    {
     "name": "stdout",
     "output_type": "stream",
     "text": [
      "123456789\n",
      "123456789\n",
      "123456789\n",
      "123456789\n",
      "123456789\n",
      "20\n"
     ]
    }
   ],
   "source": [
    "def evenadd(a):\n",
    "    l=list(a);\n",
    "    sum=0\n",
    "    for i in l:\n",
    "        i=int(i)\n",
    "        if(i%2==0):\n",
    "            sum=sum+i;\n",
    "    print(sum)\n",
    "evenadd(hi(5))"
   ]
  },
  {
   "cell_type": "code",
   "execution_count": 37,
   "metadata": {},
   "outputs": [
    {
     "name": "stdout",
     "output_type": "stream",
     "text": [
      "9\n"
     ]
    }
   ],
   "source": [
    "def large(a):\n",
    "    l=list(a);\n",
    "    lar=0\n",
    "    for i in l:\n",
    "        i=int(i)\n",
    "        if(lar<i):\n",
    "            lar=i;\n",
    "    print(lar)\n",
    "large(\"19535\")"
   ]
  },
  {
   "cell_type": "code",
   "execution_count": 47,
   "metadata": {},
   "outputs": [
    {
     "name": "stdout",
     "output_type": "stream",
     "text": [
      "500 502 504 506 508 510 512 514 516 518 520 \n"
     ]
    }
   ],
   "source": [
    "def fun(a,b):\n",
    "    s=\"\"\n",
    "    for i in range(a,b+1,2):\n",
    "        s=s+str(i)+\" \"\n",
    "    print(s)\n",
    "fun(500,520)"
   ]
  },
  {
   "cell_type": "code",
   "execution_count": 49,
   "metadata": {},
   "outputs": [
    {
     "data": {
      "text/plain": [
       "2"
      ]
     },
     "execution_count": 49,
     "metadata": {},
     "output_type": "execute_result"
    }
   ],
   "source": [
    "l=[2,\"jhhj\",89]\n",
    "l[0]"
   ]
  },
  {
   "cell_type": "code",
   "execution_count": 51,
   "metadata": {},
   "outputs": [
    {
     "data": {
      "text/plain": [
       "89"
      ]
     },
     "execution_count": 51,
     "metadata": {},
     "output_type": "execute_result"
    }
   ],
   "source": [
    "l[-1]"
   ]
  },
  {
   "cell_type": "code",
   "execution_count": 55,
   "metadata": {},
   "outputs": [
    {
     "name": "stdout",
     "output_type": "stream",
     "text": [
      "1\n"
     ]
    },
    {
     "ename": "TypeError",
     "evalue": "can only concatenate tuple (not \"int\") to tuple",
     "output_type": "error",
     "traceback": [
      "\u001b[1;31m---------------------------------------------------------------------------\u001b[0m",
      "\u001b[1;31mTypeError\u001b[0m                                 Traceback (most recent call last)",
      "\u001b[1;32m<ipython-input-55-d926dd445e7d>\u001b[0m in \u001b[0;36m<module>\u001b[1;34m()\u001b[0m\n\u001b[0;32m      1\u001b[0m \u001b[0mli\u001b[0m\u001b[1;33m=\u001b[0m\u001b[1;33m(\u001b[0m\u001b[1;36m1\u001b[0m\u001b[1;33m,\u001b[0m\u001b[1;36m2\u001b[0m\u001b[1;33m,\u001b[0m\u001b[1;36m3\u001b[0m\u001b[1;33m,\u001b[0m\u001b[1;36m4\u001b[0m\u001b[1;33m,\u001b[0m\u001b[1;36m5\u001b[0m\u001b[1;33m,\u001b[0m\u001b[1;36m6\u001b[0m\u001b[1;33m,\u001b[0m\u001b[1;36m7\u001b[0m\u001b[1;33m)\u001b[0m\u001b[1;33m\u001b[0m\u001b[0m\n\u001b[0;32m      2\u001b[0m \u001b[1;32mprint\u001b[0m\u001b[1;33m(\u001b[0m\u001b[0mli\u001b[0m\u001b[1;33m[\u001b[0m\u001b[1;36m0\u001b[0m\u001b[1;33m]\u001b[0m\u001b[1;33m)\u001b[0m\u001b[1;33m\u001b[0m\u001b[0m\n\u001b[1;32m----> 3\u001b[1;33m \u001b[0ml1\u001b[0m\u001b[1;33m=\u001b[0m\u001b[0mli\u001b[0m\u001b[1;33m+\u001b[0m\u001b[1;36m8\u001b[0m\u001b[1;33m\u001b[0m\u001b[0m\n\u001b[0m",
      "\u001b[1;31mTypeError\u001b[0m: can only concatenate tuple (not \"int\") to tuple"
     ]
    }
   ],
   "source": [
    "li=(1,2,3,4,5,6,7)\n",
    "print(li[0])"
   ]
  },
  {
   "cell_type": "code",
   "execution_count": 63,
   "metadata": {},
   "outputs": [
    {
     "name": "stdout",
     "output_type": "stream",
     "text": [
      "(['1'], <built-in method reverse of list object at 0x0000000005C521C8>)\n",
      "(['2'], <built-in method reverse of list object at 0x0000000005C52E48>)\n",
      "(['3'], <built-in method reverse of list object at 0x0000000005C52288>)\n",
      "(['4'], <built-in method reverse of list object at 0x0000000005C52948>)\n",
      "(['5'], <built-in method reverse of list object at 0x0000000005C52208>)\n",
      "(['6'], <built-in method reverse of list object at 0x0000000005C52548>)\n",
      "(['7'], <built-in method reverse of list object at 0x0000000005C52CC8>)\n",
      "(['8'], <built-in method reverse of list object at 0x0000000005C52448>)\n",
      "(['9'], <built-in method reverse of list object at 0x0000000005C52188>)\n",
      "(['1', '0'], <built-in method reverse of list object at 0x0000000005BBE5C8>)\n",
      "(['1', '1'], <built-in method reverse of list object at 0x0000000005BBE148>)\n",
      "(['1', '2'], <built-in method reverse of list object at 0x0000000005BBE788>)\n",
      "(['1', '3'], <built-in method reverse of list object at 0x0000000005C53108>)\n",
      "(['1', '4'], <built-in method reverse of list object at 0x0000000005C53688>)\n",
      "(['1', '5'], <built-in method reverse of list object at 0x0000000005C53848>)\n",
      "(['1', '6'], <built-in method reverse of list object at 0x0000000005C53F08>)\n",
      "(['1', '7'], <built-in method reverse of list object at 0x0000000005C53BC8>)\n",
      "(['1', '8'], <built-in method reverse of list object at 0x0000000005C532C8>)\n",
      "(['1', '9'], <built-in method reverse of list object at 0x0000000005C53E08>)\n",
      "(['2', '0'], <built-in method reverse of list object at 0x0000000005C53EC8>)\n",
      "(['2', '1'], <built-in method reverse of list object at 0x0000000005C53D88>)\n",
      "(['2', '2'], <built-in method reverse of list object at 0x0000000005CD48C8>)\n",
      "(['2', '3'], <built-in method reverse of list object at 0x0000000005CD4308>)\n",
      "(['2', '4'], <built-in method reverse of list object at 0x0000000005CD4608>)\n",
      "(['2', '5'], <built-in method reverse of list object at 0x0000000005CD4F08>)\n",
      "(['2', '6'], <built-in method reverse of list object at 0x0000000005CD4548>)\n",
      "(['2', '7'], <built-in method reverse of list object at 0x0000000005CD4E88>)\n",
      "(['2', '8'], <built-in method reverse of list object at 0x0000000005CD4588>)\n",
      "(['2', '9'], <built-in method reverse of list object at 0x0000000005CD4888>)\n",
      "(['3', '0'], <built-in method reverse of list object at 0x0000000005CE9288>)\n",
      "(['3', '1'], <built-in method reverse of list object at 0x0000000005CE9348>)\n",
      "(['3', '2'], <built-in method reverse of list object at 0x0000000005CE9448>)\n",
      "(['3', '3'], <built-in method reverse of list object at 0x0000000005CE9088>)\n",
      "(['3', '4'], <built-in method reverse of list object at 0x0000000005CE9608>)\n",
      "(['3', '5'], <built-in method reverse of list object at 0x0000000005CE9508>)\n",
      "(['3', '6'], <built-in method reverse of list object at 0x0000000005CE9648>)\n",
      "(['3', '7'], <built-in method reverse of list object at 0x0000000005CE9508>)\n",
      "(['3', '8'], <built-in method reverse of list object at 0x0000000005CD4588>)\n",
      "(['3', '9'], <built-in method reverse of list object at 0x0000000005CE9508>)\n",
      "(['4', '0'], <built-in method reverse of list object at 0x0000000005CD4588>)\n",
      "(['4', '1'], <built-in method reverse of list object at 0x0000000005CE9508>)\n",
      "(['4', '2'], <built-in method reverse of list object at 0x0000000005CD4588>)\n",
      "(['4', '3'], <built-in method reverse of list object at 0x0000000005CE9508>)\n",
      "(['4', '4'], <built-in method reverse of list object at 0x0000000005CE9448>)\n",
      "(['4', '5'], <built-in method reverse of list object at 0x0000000005CE9508>)\n",
      "(['4', '6'], <built-in method reverse of list object at 0x0000000005CE9448>)\n",
      "(['4', '7'], <built-in method reverse of list object at 0x0000000005CE9508>)\n",
      "(['4', '8'], <built-in method reverse of list object at 0x0000000005CE9448>)\n",
      "(['4', '9'], <built-in method reverse of list object at 0x0000000005CD4588>)\n",
      "(['5', '0'], <built-in method reverse of list object at 0x0000000005CE9448>)\n",
      "(['5', '1'], <built-in method reverse of list object at 0x0000000005CD4588>)\n",
      "(['5', '2'], <built-in method reverse of list object at 0x0000000005CE9448>)\n",
      "(['5', '3'], <built-in method reverse of list object at 0x0000000005CD4588>)\n",
      "(['5', '4'], <built-in method reverse of list object at 0x0000000005CE9648>)\n",
      "(['5', '5'], <built-in method reverse of list object at 0x0000000005CD41C8>)\n",
      "(['5', '6'], <built-in method reverse of list object at 0x0000000005CE9648>)\n",
      "(['5', '7'], <built-in method reverse of list object at 0x0000000005CD41C8>)\n",
      "(['5', '8'], <built-in method reverse of list object at 0x0000000005CE9648>)\n",
      "(['5', '9'], <built-in method reverse of list object at 0x0000000005CD41C8>)\n",
      "(['6', '0'], <built-in method reverse of list object at 0x0000000005CE9088>)\n",
      "(['6', '1'], <built-in method reverse of list object at 0x0000000005CDB188>)\n",
      "(['6', '2'], <built-in method reverse of list object at 0x0000000005CD4588>)\n",
      "(['6', '3'], <built-in method reverse of list object at 0x0000000005CDB188>)\n",
      "(['6', '4'], <built-in method reverse of list object at 0x0000000005CD4588>)\n",
      "(['6', '5'], <built-in method reverse of list object at 0x0000000005CDB188>)\n",
      "(['6', '6'], <built-in method reverse of list object at 0x0000000005CD4588>)\n",
      "(['6', '7'], <built-in method reverse of list object at 0x0000000005CE9448>)\n",
      "(['6', '8'], <built-in method reverse of list object at 0x0000000005CD4588>)\n",
      "(['6', '9'], <built-in method reverse of list object at 0x0000000005CE9448>)\n",
      "(['7', '0'], <built-in method reverse of list object at 0x0000000005CE9088>)\n",
      "(['7', '1'], <built-in method reverse of list object at 0x0000000005CE9508>)\n",
      "(['7', '2'], <built-in method reverse of list object at 0x0000000005CD4588>)\n",
      "(['7', '3'], <built-in method reverse of list object at 0x0000000005CE9508>)\n",
      "(['7', '4'], <built-in method reverse of list object at 0x0000000005CD4588>)\n",
      "(['7', '5'], <built-in method reverse of list object at 0x0000000005CE9508>)\n",
      "(['7', '6'], <built-in method reverse of list object at 0x0000000005CD4588>)\n",
      "(['7', '7'], <built-in method reverse of list object at 0x0000000005CE9648>)\n",
      "(['7', '8'], <built-in method reverse of list object at 0x0000000005CD41C8>)\n",
      "(['7', '9'], <built-in method reverse of list object at 0x0000000005CE9648>)\n",
      "(['8', '0'], <built-in method reverse of list object at 0x0000000005CD41C8>)\n",
      "(['8', '1'], <built-in method reverse of list object at 0x0000000005CE9648>)\n",
      "(['8', '2'], <built-in method reverse of list object at 0x0000000005CD41C8>)\n",
      "(['8', '3'], <built-in method reverse of list object at 0x0000000005CE9448>)\n",
      "(['8', '4'], <built-in method reverse of list object at 0x0000000005CDB188>)\n",
      "(['8', '5'], <built-in method reverse of list object at 0x0000000005CD4588>)\n",
      "(['8', '6'], <built-in method reverse of list object at 0x0000000005CDB188>)\n",
      "(['8', '7'], <built-in method reverse of list object at 0x0000000005CD4588>)\n",
      "(['8', '8'], <built-in method reverse of list object at 0x0000000005CDB188>)\n",
      "(['8', '9'], <built-in method reverse of list object at 0x0000000005CE9448>)\n",
      "(['9', '0'], <built-in method reverse of list object at 0x0000000005CD41C8>)\n",
      "(['9', '1'], <built-in method reverse of list object at 0x0000000005CE9448>)\n",
      "(['9', '2'], <built-in method reverse of list object at 0x0000000005CD41C8>)\n",
      "(['9', '3'], <built-in method reverse of list object at 0x0000000005CE9648>)\n",
      "(['9', '4'], <built-in method reverse of list object at 0x0000000005CD41C8>)\n",
      "(['9', '5'], <built-in method reverse of list object at 0x0000000005CE9648>)\n",
      "(['9', '6'], <built-in method reverse of list object at 0x0000000005CDB188>)\n",
      "(['9', '7'], <built-in method reverse of list object at 0x0000000005CE9648>)\n",
      "(['9', '8'], <built-in method reverse of list object at 0x0000000005CDB188>)\n",
      "(['9', '9'], <built-in method reverse of list object at 0x0000000005CD4588>)\n",
      "0\n"
     ]
    }
   ],
   "source": [
    "a=11\n",
    "count=0\n",
    "c=0\n",
    "for i in range(1,100):\n",
    "    i=str(i)\n",
    "    l=list(i)\n",
    "    l1=l.reverse\n",
    "    print(l,l1)\n",
    "    if(l==l1):\n",
    "        count=count+1\n",
    "    if(count==a):\n",
    "        c=i;\n",
    "        break\n",
    "print(c)"
   ]
  },
  {
   "cell_type": "code",
   "execution_count": null,
   "metadata": {},
   "outputs": [],
   "source": []
  }
 ],
 "metadata": {
  "kernelspec": {
   "display_name": "Python 2",
   "language": "python",
   "name": "python2"
  },
  "language_info": {
   "codemirror_mode": {
    "name": "ipython",
    "version": 2
   },
   "file_extension": ".py",
   "mimetype": "text/x-python",
   "name": "python",
   "nbconvert_exporter": "python",
   "pygments_lexer": "ipython2",
   "version": "2.7.14"
  }
 },
 "nbformat": 4,
 "nbformat_minor": 2
}
